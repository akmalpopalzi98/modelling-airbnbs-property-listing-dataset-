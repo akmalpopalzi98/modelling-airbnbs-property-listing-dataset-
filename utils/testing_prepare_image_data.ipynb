{
 "cells": [
  {
   "cell_type": "code",
   "execution_count": 88,
   "metadata": {},
   "outputs": [],
   "source": [
    "import PIL\n",
    "from PIL import Image\n",
    "import boto3\n",
    "import os\n",
    "import cv2"
   ]
  },
  {
   "cell_type": "code",
   "execution_count": 101,
   "metadata": {},
   "outputs": [],
   "source": [
    "class ImageProcessing:\n",
    "    def __init__(self):\n",
    "        self.resource = boto3.resource('s3')\n",
    "        self.my_bucket = self.resource.Bucket('airbnbimage')\n",
    "        self.folder_names = []\n",
    "        self.file_names = []\n",
    "        self.height = []\n",
    "        self.width = []\n",
    "        \n",
    "\n",
    "\n",
    "    def get_folder_names(self):\n",
    "        for file in self.my_bucket.objects.filter(Prefix = 'images/'):\n",
    "            if file.key.split('/')[1] not in self.folder_names:\n",
    "                self.folder_names.append(file.key.split('/')[1])\n",
    "\n",
    "    def get_file_names(self):\n",
    "        for file in self.my_bucket.objects.filter(Prefix = 'images/'):\n",
    "            self.file_names.append(file.key)\n",
    "\n",
    "    def download_images(self):\n",
    "        working_dir = '/Users/akmalpopalzi/Documents/S3images/'\n",
    "        for folder in self.folder_names:\n",
    "            path = os.path.join(working_dir,folder)\n",
    "            os.mkdir(path)\n",
    "\n",
    "        for image in self.file_names:\n",
    "            lst = image.split('/')\n",
    "            self.my_bucket.download_file(Key = image, Filename= f'/Users/akmalpopalzi/Documents/S3images/{lst[1]}/{lst[2]}')\n",
    "\n",
    "    def get_image_details(self):\n",
    "        for image2 in self.file_names:\n",
    "            lst2 = image2.split('/')\n",
    "            img = Image.open(f'/Users/akmalpopalzi/Documents/S3images/{lst2[1]}/{lst2[2]}')\n",
    "            self.width.append(img.width)\n",
    "            self.height.append(img.height)\n",
    "\n",
    "    def min_height(self):\n",
    "        return min(self.height)\n",
    "    \n",
    "\n",
    "    def resize_images(self):\n",
    "        fixed_height = self.min_height()\n",
    "        working_dir = '/Users/akmalpopalzi/Documents/airbnb_processed_images/'\n",
    "        for folder in self.folder_names:\n",
    "            path = os.path.join(working_dir,folder)\n",
    "            os.mkdir(path)\n",
    "\n",
    "        for file in self.file_names:\n",
    "            lst3 = file.split('/')\n",
    "            path = f'/Users/akmalpopalzi/Documents/S3images/{lst3[1]}/{lst3[2]}'\n",
    "            img2 = cv2.imread(path)\n",
    "            original_height = img2.shape[0]\n",
    "            original_width = img2.shape[1]\n",
    "            scale_percent = fixed_height/original_height\n",
    "            resized_width = int(original_width*scale_percent)\n",
    "            resized_img = cv2.resize(img2,(resized_width,fixed_height),interpolation=cv2.INTER_AREA)\n",
    "            cv2.imwrite(f'/Users/akmalpopalzi/Documents/airbnb_processed_images/{lst3[1]}/{lst3[2]}',resized_img)\n",
    "\n",
    "\n",
    "\n",
    "        \n",
    "\n",
    "        \n",
    "\n",
    "        \n",
    "\n",
    "    \n",
    "\n",
    "\n",
    "\n",
    "\n",
    "    \n",
    "\n",
    "    \n",
    "\n",
    "\n",
    "    "
   ]
  },
  {
   "cell_type": "code",
   "execution_count": 102,
   "metadata": {},
   "outputs": [],
   "source": [
    "test = ImageProcessing()"
   ]
  },
  {
   "cell_type": "code",
   "execution_count": 60,
   "metadata": {},
   "outputs": [],
   "source": [
    "test.get_file_names()\n",
    "test.get_folder_names()"
   ]
  },
  {
   "cell_type": "code",
   "execution_count": 87,
   "metadata": {},
   "outputs": [
    {
     "data": {
      "text/plain": [
       "'images/002717f3-3d2b-44f6-aa98-bc904670883e/002717f3-3d2b-44f6-aa98-bc904670883e-b.png'"
      ]
     },
     "execution_count": 87,
     "metadata": {},
     "output_type": "execute_result"
    }
   ],
   "source": [
    "test.file_names[1]"
   ]
  },
  {
   "cell_type": "code",
   "execution_count": 62,
   "metadata": {},
   "outputs": [
    {
     "data": {
      "text/plain": [
       "'002717f3-3d2b-44f6-aa98-bc904670883e'"
      ]
     },
     "execution_count": 62,
     "metadata": {},
     "output_type": "execute_result"
    }
   ],
   "source": [
    "test.folder_names[0]"
   ]
  },
  {
   "cell_type": "code",
   "execution_count": 74,
   "metadata": {},
   "outputs": [],
   "source": [
    "\n",
    "path = '/Users/akmalpopalzi/Documents/S3images/002717f3-3d2b-44f6-aa98-bc904670883e/002717f3-3d2b-44f6-aa98-bc904670883e-a.png'\n",
    "img = Image.open(path)\n",
    "width = img.size"
   ]
  },
  {
   "cell_type": "code",
   "execution_count": 77,
   "metadata": {},
   "outputs": [
    {
     "data": {
      "text/plain": [
       "(720, 480)"
      ]
     },
     "execution_count": 77,
     "metadata": {},
     "output_type": "execute_result"
    }
   ],
   "source": [
    "width"
   ]
  },
  {
   "cell_type": "code",
   "execution_count": 86,
   "metadata": {},
   "outputs": [
    {
     "name": "stderr",
     "output_type": "stream",
     "text": [
      "/var/folders/j7/wpvkrkss313_f_v160vb65h80000gn/T/ipykernel_1617/614587198.py:6: DeprecationWarning: NEAREST is deprecated and will be removed in Pillow 10 (2023-07-01). Use Resampling.NEAREST or Dither.NONE instead.\n",
      "  img = img.resize((width_size,fixed_height),PIL.Image.NEAREST)\n"
     ]
    }
   ],
   "source": [
    "fixed_height = 150\n",
    "path = '/Users/akmalpopalzi/Documents/S3images/002717f3-3d2b-44f6-aa98-bc904670883e/002717f3-3d2b-44f6-aa98-bc904670883e-a.png'\n",
    "img = Image.open(path)\n",
    "height_percent = (fixed_height/float(img.size[1]))\n",
    "width_size = int(((img.size[0]))*float(height_percent))\n",
    "img = img.resize((width_size,fixed_height),PIL.Image.NEAREST)\n",
    "img.save('/Users/akmalpopalzi/Documents/airbnb_processed_images/img.png')\n"
   ]
  },
  {
   "cell_type": "code",
   "execution_count": 82,
   "metadata": {},
   "outputs": [
    {
     "data": {
      "text/plain": [
       "150"
      ]
     },
     "execution_count": 82,
     "metadata": {},
     "output_type": "execute_result"
    }
   ],
   "source": [
    "img.height"
   ]
  },
  {
   "cell_type": "code",
   "execution_count": 99,
   "metadata": {},
   "outputs": [
    {
     "name": "stderr",
     "output_type": "stream",
     "text": [
      "/var/folders/j7/wpvkrkss313_f_v160vb65h80000gn/T/ipykernel_1617/1017131499.py:7: DeprecationWarning: NEAREST is deprecated and will be removed in Pillow 10 (2023-07-01). Use Resampling.NEAREST or Dither.NONE instead.\n",
      "  img2 = img2.resize((width_size,fixed_height),PIL.Image.NEAREST)\n"
     ]
    },
    {
     "data": {
      "text/plain": [
       "'RGB'"
      ]
     },
     "execution_count": 99,
     "metadata": {},
     "output_type": "execute_result"
    }
   ],
   "source": [
    "import cv2\n",
    "image = cv2.imread(path)\n",
    "img2 = Image.fromarray(image)\n",
    "\n",
    "height_percent = (fixed_height/float(img.size[1]))\n",
    "width_size = int(((img.size[0]))*float(height_percent))\n",
    "img2 = img2.resize((width_size,fixed_height),PIL.Image.NEAREST)\n",
    "img2.save('/Users/akmalpopalzi/Documents/airbnb_processed_images/img.png')\n",
    "\n",
    "\n",
    "img.mode\n"
   ]
  },
  {
   "cell_type": "code",
   "execution_count": 100,
   "metadata": {},
   "outputs": [
    {
     "data": {
      "text/plain": [
       "(225, 150)"
      ]
     },
     "execution_count": 100,
     "metadata": {},
     "output_type": "execute_result"
    }
   ],
   "source": [
    "img2.size"
   ]
  },
  {
   "cell_type": "code",
   "execution_count": 104,
   "metadata": {},
   "outputs": [],
   "source": [
    "test.get_file_names()\n",
    "test.get_folder_names()\n",
    "test.get_image_details()"
   ]
  },
  {
   "cell_type": "code",
   "execution_count": 105,
   "metadata": {},
   "outputs": [],
   "source": [
    "test.resize_images()"
   ]
  },
  {
   "cell_type": "code",
   "execution_count": null,
   "metadata": {},
   "outputs": [],
   "source": []
  }
 ],
 "metadata": {
  "kernelspec": {
   "display_name": "base",
   "language": "python",
   "name": "python3"
  },
  "language_info": {
   "codemirror_mode": {
    "name": "ipython",
    "version": 3
   },
   "file_extension": ".py",
   "mimetype": "text/x-python",
   "name": "python",
   "nbconvert_exporter": "python",
   "pygments_lexer": "ipython3",
   "version": "3.9.13"
  },
  "orig_nbformat": 4,
  "vscode": {
   "interpreter": {
    "hash": "e3defab19af5a0260f6235e368424eb7b1fcafeecd893bf36b07ef0f4cb62b71"
   }
  }
 },
 "nbformat": 4,
 "nbformat_minor": 2
}
